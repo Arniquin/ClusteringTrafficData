{
 "cells": [
  {
   "cell_type": "code",
   "execution_count": null,
   "metadata": {},
   "outputs": [],
   "source": [
    "# Installing the necessary libraries\n",
    "%pip install pandas"
   ]
  },
  {
   "cell_type": "code",
   "execution_count": 1,
   "metadata": {},
   "outputs": [],
   "source": [
    "import pandas as pd"
   ]
  },
  {
   "cell_type": "code",
   "execution_count": 4,
   "metadata": {},
   "outputs": [
    {
     "data": {
      "text/plain": [
       "Index(['Entidad', 'Superficie', 'Habitantes', 'Hombres', 'Mujeres',\n",
       "       'Densidad de población', 'Vehículos registrados',\n",
       "       'Habitantes por vehículo', 'Índice de motorización',\n",
       "       'Longitud del camino (km)', 'Veh-km (millones)', 'Accidentes Totales',\n",
       "       'Accidentes Con muertos', 'Accidentes Solo con heridos',\n",
       "       'Accidentes Equivalentes', 'Saldos Muertos', 'Saldos Heridos',\n",
       "       'Daños materiales (millones)', 'Índices Accidentes por 10^6 de Veh-km',\n",
       "       'Índices Peligrosidad por 10^5 de Veh-km',\n",
       "       'Índices Accidentes mortales por 10^5 de Veh-km',\n",
       "       'Índices Muertos por 10^5 de Veh-km',\n",
       "       'Índices Heridos por 10^5 de Veh-km', 'Año'],\n",
       "      dtype='object')"
      ]
     },
     "execution_count": 4,
     "metadata": {},
     "output_type": "execute_result"
    }
   ],
   "source": [
    "df = pd.read_csv(\"./data/accidentes.csv\")\n",
    "df.columns"
   ]
  },
  {
   "cell_type": "code",
   "execution_count": null,
   "metadata": {},
   "outputs": [],
   "source": []
  }
 ],
 "metadata": {
  "kernelspec": {
   "display_name": ".venv",
   "language": "python",
   "name": "python3"
  },
  "language_info": {
   "codemirror_mode": {
    "name": "ipython",
    "version": 3
   },
   "file_extension": ".py",
   "mimetype": "text/x-python",
   "name": "python",
   "nbconvert_exporter": "python",
   "pygments_lexer": "ipython3",
   "version": "3.12.5"
  }
 },
 "nbformat": 4,
 "nbformat_minor": 2
}
